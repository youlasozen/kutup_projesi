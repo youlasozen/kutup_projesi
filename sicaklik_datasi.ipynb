{
 "cells": [
  {
   "cell_type": "code",
   "execution_count": 1,
   "id": "d72f6283",
   "metadata": {},
   "outputs": [],
   "source": [
    "import numpy as np\n",
    "\n",
    "import pandas as pd\n",
    "\n",
    "import matplotlib.pyplot as plt\n",
    "\n",
    "import xarray as xr"
   ]
  },
  {
   "cell_type": "code",
   "execution_count": 3,
   "id": "dbd1f196",
   "metadata": {},
   "outputs": [],
   "source": [
    "temp = xr.open_dataset(\"temp_data.nc\")"
   ]
  },
  {
   "cell_type": "code",
   "execution_count": 4,
   "id": "a593750f",
   "metadata": {},
   "outputs": [
    {
     "data": {
      "text/html": [
       "<div><svg style=\"position: absolute; width: 0; height: 0; overflow: hidden\">\n",
       "<defs>\n",
       "<symbol id=\"icon-database\" viewBox=\"0 0 32 32\">\n",
       "<path d=\"M16 0c-8.837 0-16 2.239-16 5v4c0 2.761 7.163 5 16 5s16-2.239 16-5v-4c0-2.761-7.163-5-16-5z\"></path>\n",
       "<path d=\"M16 17c-8.837 0-16-2.239-16-5v6c0 2.761 7.163 5 16 5s16-2.239 16-5v-6c0 2.761-7.163 5-16 5z\"></path>\n",
       "<path d=\"M16 26c-8.837 0-16-2.239-16-5v6c0 2.761 7.163 5 16 5s16-2.239 16-5v-6c0 2.761-7.163 5-16 5z\"></path>\n",
       "</symbol>\n",
       "<symbol id=\"icon-file-text2\" viewBox=\"0 0 32 32\">\n",
       "<path d=\"M28.681 7.159c-0.694-0.947-1.662-2.053-2.724-3.116s-2.169-2.030-3.116-2.724c-1.612-1.182-2.393-1.319-2.841-1.319h-15.5c-1.378 0-2.5 1.121-2.5 2.5v27c0 1.378 1.122 2.5 2.5 2.5h23c1.378 0 2.5-1.122 2.5-2.5v-19.5c0-0.448-0.137-1.23-1.319-2.841zM24.543 5.457c0.959 0.959 1.712 1.825 2.268 2.543h-4.811v-4.811c0.718 0.556 1.584 1.309 2.543 2.268zM28 29.5c0 0.271-0.229 0.5-0.5 0.5h-23c-0.271 0-0.5-0.229-0.5-0.5v-27c0-0.271 0.229-0.5 0.5-0.5 0 0 15.499-0 15.5 0v7c0 0.552 0.448 1 1 1h7v19.5z\"></path>\n",
       "<path d=\"M23 26h-14c-0.552 0-1-0.448-1-1s0.448-1 1-1h14c0.552 0 1 0.448 1 1s-0.448 1-1 1z\"></path>\n",
       "<path d=\"M23 22h-14c-0.552 0-1-0.448-1-1s0.448-1 1-1h14c0.552 0 1 0.448 1 1s-0.448 1-1 1z\"></path>\n",
       "<path d=\"M23 18h-14c-0.552 0-1-0.448-1-1s0.448-1 1-1h14c0.552 0 1 0.448 1 1s-0.448 1-1 1z\"></path>\n",
       "</symbol>\n",
       "</defs>\n",
       "</svg>\n",
       "<style>/* CSS stylesheet for displaying xarray objects in jupyterlab.\n",
       " *\n",
       " */\n",
       "\n",
       ":root {\n",
       "  --xr-font-color0: var(--jp-content-font-color0, rgba(0, 0, 0, 1));\n",
       "  --xr-font-color2: var(--jp-content-font-color2, rgba(0, 0, 0, 0.54));\n",
       "  --xr-font-color3: var(--jp-content-font-color3, rgba(0, 0, 0, 0.38));\n",
       "  --xr-border-color: var(--jp-border-color2, #e0e0e0);\n",
       "  --xr-disabled-color: var(--jp-layout-color3, #bdbdbd);\n",
       "  --xr-background-color: var(--jp-layout-color0, white);\n",
       "  --xr-background-color-row-even: var(--jp-layout-color1, white);\n",
       "  --xr-background-color-row-odd: var(--jp-layout-color2, #eeeeee);\n",
       "}\n",
       "\n",
       "html[theme=dark],\n",
       "body.vscode-dark {\n",
       "  --xr-font-color0: rgba(255, 255, 255, 1);\n",
       "  --xr-font-color2: rgba(255, 255, 255, 0.54);\n",
       "  --xr-font-color3: rgba(255, 255, 255, 0.38);\n",
       "  --xr-border-color: #1F1F1F;\n",
       "  --xr-disabled-color: #515151;\n",
       "  --xr-background-color: #111111;\n",
       "  --xr-background-color-row-even: #111111;\n",
       "  --xr-background-color-row-odd: #313131;\n",
       "}\n",
       "\n",
       ".xr-wrap {\n",
       "  display: block !important;\n",
       "  min-width: 300px;\n",
       "  max-width: 700px;\n",
       "}\n",
       "\n",
       ".xr-text-repr-fallback {\n",
       "  /* fallback to plain text repr when CSS is not injected (untrusted notebook) */\n",
       "  display: none;\n",
       "}\n",
       "\n",
       ".xr-header {\n",
       "  padding-top: 6px;\n",
       "  padding-bottom: 6px;\n",
       "  margin-bottom: 4px;\n",
       "  border-bottom: solid 1px var(--xr-border-color);\n",
       "}\n",
       "\n",
       ".xr-header > div,\n",
       ".xr-header > ul {\n",
       "  display: inline;\n",
       "  margin-top: 0;\n",
       "  margin-bottom: 0;\n",
       "}\n",
       "\n",
       ".xr-obj-type,\n",
       ".xr-array-name {\n",
       "  margin-left: 2px;\n",
       "  margin-right: 10px;\n",
       "}\n",
       "\n",
       ".xr-obj-type {\n",
       "  color: var(--xr-font-color2);\n",
       "}\n",
       "\n",
       ".xr-sections {\n",
       "  padding-left: 0 !important;\n",
       "  display: grid;\n",
       "  grid-template-columns: 150px auto auto 1fr 20px 20px;\n",
       "}\n",
       "\n",
       ".xr-section-item {\n",
       "  display: contents;\n",
       "}\n",
       "\n",
       ".xr-section-item input {\n",
       "  display: none;\n",
       "}\n",
       "\n",
       ".xr-section-item input + label {\n",
       "  color: var(--xr-disabled-color);\n",
       "}\n",
       "\n",
       ".xr-section-item input:enabled + label {\n",
       "  cursor: pointer;\n",
       "  color: var(--xr-font-color2);\n",
       "}\n",
       "\n",
       ".xr-section-item input:enabled + label:hover {\n",
       "  color: var(--xr-font-color0);\n",
       "}\n",
       "\n",
       ".xr-section-summary {\n",
       "  grid-column: 1;\n",
       "  color: var(--xr-font-color2);\n",
       "  font-weight: 500;\n",
       "}\n",
       "\n",
       ".xr-section-summary > span {\n",
       "  display: inline-block;\n",
       "  padding-left: 0.5em;\n",
       "}\n",
       "\n",
       ".xr-section-summary-in:disabled + label {\n",
       "  color: var(--xr-font-color2);\n",
       "}\n",
       "\n",
       ".xr-section-summary-in + label:before {\n",
       "  display: inline-block;\n",
       "  content: '►';\n",
       "  font-size: 11px;\n",
       "  width: 15px;\n",
       "  text-align: center;\n",
       "}\n",
       "\n",
       ".xr-section-summary-in:disabled + label:before {\n",
       "  color: var(--xr-disabled-color);\n",
       "}\n",
       "\n",
       ".xr-section-summary-in:checked + label:before {\n",
       "  content: '▼';\n",
       "}\n",
       "\n",
       ".xr-section-summary-in:checked + label > span {\n",
       "  display: none;\n",
       "}\n",
       "\n",
       ".xr-section-summary,\n",
       ".xr-section-inline-details {\n",
       "  padding-top: 4px;\n",
       "  padding-bottom: 4px;\n",
       "}\n",
       "\n",
       ".xr-section-inline-details {\n",
       "  grid-column: 2 / -1;\n",
       "}\n",
       "\n",
       ".xr-section-details {\n",
       "  display: none;\n",
       "  grid-column: 1 / -1;\n",
       "  margin-bottom: 5px;\n",
       "}\n",
       "\n",
       ".xr-section-summary-in:checked ~ .xr-section-details {\n",
       "  display: contents;\n",
       "}\n",
       "\n",
       ".xr-array-wrap {\n",
       "  grid-column: 1 / -1;\n",
       "  display: grid;\n",
       "  grid-template-columns: 20px auto;\n",
       "}\n",
       "\n",
       ".xr-array-wrap > label {\n",
       "  grid-column: 1;\n",
       "  vertical-align: top;\n",
       "}\n",
       "\n",
       ".xr-preview {\n",
       "  color: var(--xr-font-color3);\n",
       "}\n",
       "\n",
       ".xr-array-preview,\n",
       ".xr-array-data {\n",
       "  padding: 0 5px !important;\n",
       "  grid-column: 2;\n",
       "}\n",
       "\n",
       ".xr-array-data,\n",
       ".xr-array-in:checked ~ .xr-array-preview {\n",
       "  display: none;\n",
       "}\n",
       "\n",
       ".xr-array-in:checked ~ .xr-array-data,\n",
       ".xr-array-preview {\n",
       "  display: inline-block;\n",
       "}\n",
       "\n",
       ".xr-dim-list {\n",
       "  display: inline-block !important;\n",
       "  list-style: none;\n",
       "  padding: 0 !important;\n",
       "  margin: 0;\n",
       "}\n",
       "\n",
       ".xr-dim-list li {\n",
       "  display: inline-block;\n",
       "  padding: 0;\n",
       "  margin: 0;\n",
       "}\n",
       "\n",
       ".xr-dim-list:before {\n",
       "  content: '(';\n",
       "}\n",
       "\n",
       ".xr-dim-list:after {\n",
       "  content: ')';\n",
       "}\n",
       "\n",
       ".xr-dim-list li:not(:last-child):after {\n",
       "  content: ',';\n",
       "  padding-right: 5px;\n",
       "}\n",
       "\n",
       ".xr-has-index {\n",
       "  font-weight: bold;\n",
       "}\n",
       "\n",
       ".xr-var-list,\n",
       ".xr-var-item {\n",
       "  display: contents;\n",
       "}\n",
       "\n",
       ".xr-var-item > div,\n",
       ".xr-var-item label,\n",
       ".xr-var-item > .xr-var-name span {\n",
       "  background-color: var(--xr-background-color-row-even);\n",
       "  margin-bottom: 0;\n",
       "}\n",
       "\n",
       ".xr-var-item > .xr-var-name:hover span {\n",
       "  padding-right: 5px;\n",
       "}\n",
       "\n",
       ".xr-var-list > li:nth-child(odd) > div,\n",
       ".xr-var-list > li:nth-child(odd) > label,\n",
       ".xr-var-list > li:nth-child(odd) > .xr-var-name span {\n",
       "  background-color: var(--xr-background-color-row-odd);\n",
       "}\n",
       "\n",
       ".xr-var-name {\n",
       "  grid-column: 1;\n",
       "}\n",
       "\n",
       ".xr-var-dims {\n",
       "  grid-column: 2;\n",
       "}\n",
       "\n",
       ".xr-var-dtype {\n",
       "  grid-column: 3;\n",
       "  text-align: right;\n",
       "  color: var(--xr-font-color2);\n",
       "}\n",
       "\n",
       ".xr-var-preview {\n",
       "  grid-column: 4;\n",
       "}\n",
       "\n",
       ".xr-var-name,\n",
       ".xr-var-dims,\n",
       ".xr-var-dtype,\n",
       ".xr-preview,\n",
       ".xr-attrs dt {\n",
       "  white-space: nowrap;\n",
       "  overflow: hidden;\n",
       "  text-overflow: ellipsis;\n",
       "  padding-right: 10px;\n",
       "}\n",
       "\n",
       ".xr-var-name:hover,\n",
       ".xr-var-dims:hover,\n",
       ".xr-var-dtype:hover,\n",
       ".xr-attrs dt:hover {\n",
       "  overflow: visible;\n",
       "  width: auto;\n",
       "  z-index: 1;\n",
       "}\n",
       "\n",
       ".xr-var-attrs,\n",
       ".xr-var-data {\n",
       "  display: none;\n",
       "  background-color: var(--xr-background-color) !important;\n",
       "  padding-bottom: 5px !important;\n",
       "}\n",
       "\n",
       ".xr-var-attrs-in:checked ~ .xr-var-attrs,\n",
       ".xr-var-data-in:checked ~ .xr-var-data {\n",
       "  display: block;\n",
       "}\n",
       "\n",
       ".xr-var-data > table {\n",
       "  float: right;\n",
       "}\n",
       "\n",
       ".xr-var-name span,\n",
       ".xr-var-data,\n",
       ".xr-attrs {\n",
       "  padding-left: 25px !important;\n",
       "}\n",
       "\n",
       ".xr-attrs,\n",
       ".xr-var-attrs,\n",
       ".xr-var-data {\n",
       "  grid-column: 1 / -1;\n",
       "}\n",
       "\n",
       "dl.xr-attrs {\n",
       "  padding: 0;\n",
       "  margin: 0;\n",
       "  display: grid;\n",
       "  grid-template-columns: 125px auto;\n",
       "}\n",
       "\n",
       ".xr-attrs dt,\n",
       ".xr-attrs dd {\n",
       "  padding: 0;\n",
       "  margin: 0;\n",
       "  float: left;\n",
       "  padding-right: 10px;\n",
       "  width: auto;\n",
       "}\n",
       "\n",
       ".xr-attrs dt {\n",
       "  font-weight: normal;\n",
       "  grid-column: 1;\n",
       "}\n",
       "\n",
       ".xr-attrs dt:hover span {\n",
       "  display: inline-block;\n",
       "  background: var(--xr-background-color);\n",
       "  padding-right: 10px;\n",
       "}\n",
       "\n",
       ".xr-attrs dd {\n",
       "  grid-column: 2;\n",
       "  white-space: pre-wrap;\n",
       "  word-break: break-all;\n",
       "}\n",
       "\n",
       ".xr-icon-database,\n",
       ".xr-icon-file-text2 {\n",
       "  display: inline-block;\n",
       "  vertical-align: middle;\n",
       "  width: 1em;\n",
       "  height: 1.5em !important;\n",
       "  stroke-width: 0;\n",
       "  stroke: currentColor;\n",
       "  fill: currentColor;\n",
       "}\n",
       "</style><pre class='xr-text-repr-fallback'>&lt;xarray.Dataset&gt;\n",
       "Dimensions:  (time: 60, XC: 1080, YC: 294, Z: 52)\n",
       "Coordinates:\n",
       "    iter     (time) int64 730 1460 2191 2921 3651 ... 41621 42352 43082 43812\n",
       "  * time     (time) datetime64[ns] 2008-01-31T10:00:00 ... 2012-12-30T12:00:00\n",
       "  * XC       (XC) float32 0.1667 0.5 0.8333 1.167 ... 358.8 359.2 359.5 359.8\n",
       "  * YC       (YC) float32 -77.97 -77.9 -77.83 -77.75 ... -30.38 -30.09 -29.79\n",
       "  * Z        (Z) float32 -2.1 -6.7 -12.15 -18.55 ... -5e+03 -5.4e+03 -5.8e+03\n",
       "    Depth    (YC, XC) float32 ...\n",
       "    rA       (YC, XC) float32 ...\n",
       "    drF      (Z) float32 4.2 5.0 5.9 6.9 8.5 ... 400.0 400.0 400.0 400.0 400.0\n",
       "    hFacC    (Z, YC, XC) float32 ...\n",
       "Data variables:\n",
       "    THETA    (time, Z, YC, XC) float32 ...</pre><div class='xr-wrap' style='display:none'><div class='xr-header'><div class='xr-obj-type'>xarray.Dataset</div></div><ul class='xr-sections'><li class='xr-section-item'><input id='section-f8367a9b-1f9a-4bfa-9ff8-6e9e65544dbb' class='xr-section-summary-in' type='checkbox' disabled ><label for='section-f8367a9b-1f9a-4bfa-9ff8-6e9e65544dbb' class='xr-section-summary'  title='Expand/collapse section'>Dimensions:</label><div class='xr-section-inline-details'><ul class='xr-dim-list'><li><span class='xr-has-index'>time</span>: 60</li><li><span class='xr-has-index'>XC</span>: 1080</li><li><span class='xr-has-index'>YC</span>: 294</li><li><span class='xr-has-index'>Z</span>: 52</li></ul></div><div class='xr-section-details'></div></li><li class='xr-section-item'><input id='section-9c02cd6e-479c-4d82-9d59-361322664ee0' class='xr-section-summary-in' type='checkbox'  checked><label for='section-9c02cd6e-479c-4d82-9d59-361322664ee0' class='xr-section-summary' >Coordinates: <span>(9)</span></label><div class='xr-section-inline-details'></div><div class='xr-section-details'><ul class='xr-var-list'><li class='xr-var-item'><div class='xr-var-name'><span>iter</span></div><div class='xr-var-dims'>(time)</div><div class='xr-var-dtype'>int64</div><div class='xr-var-preview xr-preview'>...</div><input id='attrs-61d962a1-efef-46a3-921b-01ffea80806f' class='xr-var-attrs-in' type='checkbox' ><label for='attrs-61d962a1-efef-46a3-921b-01ffea80806f' title='Show/Hide attributes'><svg class='icon xr-icon-file-text2'><use xlink:href='#icon-file-text2'></use></svg></label><input id='data-dab3480b-c184-4c73-9165-aa0666b6d272' class='xr-var-data-in' type='checkbox'><label for='data-dab3480b-c184-4c73-9165-aa0666b6d272' title='Show/Hide data repr'><svg class='icon xr-icon-database'><use xlink:href='#icon-database'></use></svg></label><div class='xr-var-attrs'><dl class='xr-attrs'><dt><span>long_name :</span></dt><dd>model timestep number</dd><dt><span>standard_name :</span></dt><dd>timestep</dd></dl></div><div class='xr-var-data'><pre>array([  730,  1460,  2191,  2921,  3651,  4381,  5111,  5842,  6572,  7302,\n",
       "        8032,  8762,  9493, 10223, 10953, 11683, 12413, 13144, 13874, 14604,\n",
       "       15334, 16064, 16795, 17525, 18255, 18985, 19715, 20446, 21176, 21906,\n",
       "       22636, 23366, 24097, 24827, 25557, 26287, 27017, 27748, 28478, 29208,\n",
       "       29938, 30668, 31399, 32129, 32859, 33589, 34319, 35050, 35780, 36510,\n",
       "       37240, 37970, 38701, 39431, 40161, 40891, 41621, 42352, 43082, 43812],\n",
       "      dtype=int64)</pre></div></li><li class='xr-var-item'><div class='xr-var-name'><span class='xr-has-index'>time</span></div><div class='xr-var-dims'>(time)</div><div class='xr-var-dtype'>datetime64[ns]</div><div class='xr-var-preview xr-preview'>2008-01-31T10:00:00 ... 2012-12-...</div><input id='attrs-1d2be28a-7a16-48b4-9bb2-ad69d4d3f6f1' class='xr-var-attrs-in' type='checkbox' ><label for='attrs-1d2be28a-7a16-48b4-9bb2-ad69d4d3f6f1' title='Show/Hide attributes'><svg class='icon xr-icon-file-text2'><use xlink:href='#icon-file-text2'></use></svg></label><input id='data-66fd7581-f50a-4c21-ae97-8832f9033613' class='xr-var-data-in' type='checkbox'><label for='data-66fd7581-f50a-4c21-ae97-8832f9033613' title='Show/Hide data repr'><svg class='icon xr-icon-database'><use xlink:href='#icon-database'></use></svg></label><div class='xr-var-attrs'><dl class='xr-attrs'><dt><span>long_name :</span></dt><dd>Time</dd><dt><span>standard_name :</span></dt><dd>time</dd><dt><span>axis :</span></dt><dd>T</dd></dl></div><div class='xr-var-data'><pre>array([&#x27;2008-01-31T10:00:00.000000000&#x27;, &#x27;2008-03-01T20:00:00.000000000&#x27;,\n",
       "       &#x27;2008-04-01T07:00:00.000000000&#x27;, &#x27;2008-05-01T17:00:00.000000000&#x27;,\n",
       "       &#x27;2008-06-01T03:00:00.000000000&#x27;, &#x27;2008-07-01T13:00:00.000000000&#x27;,\n",
       "       &#x27;2008-07-31T23:00:00.000000000&#x27;, &#x27;2008-08-31T10:00:00.000000000&#x27;,\n",
       "       &#x27;2008-09-30T20:00:00.000000000&#x27;, &#x27;2008-10-31T06:00:00.000000000&#x27;,\n",
       "       &#x27;2008-11-30T16:00:00.000000000&#x27;, &#x27;2008-12-31T02:00:00.000000000&#x27;,\n",
       "       &#x27;2009-01-30T13:00:00.000000000&#x27;, &#x27;2009-03-01T23:00:00.000000000&#x27;,\n",
       "       &#x27;2009-04-01T09:00:00.000000000&#x27;, &#x27;2009-05-01T19:00:00.000000000&#x27;,\n",
       "       &#x27;2009-06-01T05:00:00.000000000&#x27;, &#x27;2009-07-01T16:00:00.000000000&#x27;,\n",
       "       &#x27;2009-08-01T02:00:00.000000000&#x27;, &#x27;2009-08-31T12:00:00.000000000&#x27;,\n",
       "       &#x27;2009-09-30T22:00:00.000000000&#x27;, &#x27;2009-10-31T08:00:00.000000000&#x27;,\n",
       "       &#x27;2009-11-30T19:00:00.000000000&#x27;, &#x27;2009-12-31T05:00:00.000000000&#x27;,\n",
       "       &#x27;2010-01-30T15:00:00.000000000&#x27;, &#x27;2010-03-02T01:00:00.000000000&#x27;,\n",
       "       &#x27;2010-04-01T11:00:00.000000000&#x27;, &#x27;2010-05-01T22:00:00.000000000&#x27;,\n",
       "       &#x27;2010-06-01T08:00:00.000000000&#x27;, &#x27;2010-07-01T18:00:00.000000000&#x27;,\n",
       "       &#x27;2010-08-01T04:00:00.000000000&#x27;, &#x27;2010-08-31T14:00:00.000000000&#x27;,\n",
       "       &#x27;2010-10-01T01:00:00.000000000&#x27;, &#x27;2010-10-31T11:00:00.000000000&#x27;,\n",
       "       &#x27;2010-11-30T21:00:00.000000000&#x27;, &#x27;2010-12-31T07:00:00.000000000&#x27;,\n",
       "       &#x27;2011-01-30T17:00:00.000000000&#x27;, &#x27;2011-03-02T04:00:00.000000000&#x27;,\n",
       "       &#x27;2011-04-01T14:00:00.000000000&#x27;, &#x27;2011-05-02T00:00:00.000000000&#x27;,\n",
       "       &#x27;2011-06-01T10:00:00.000000000&#x27;, &#x27;2011-07-01T20:00:00.000000000&#x27;,\n",
       "       &#x27;2011-08-01T07:00:00.000000000&#x27;, &#x27;2011-08-31T17:00:00.000000000&#x27;,\n",
       "       &#x27;2011-10-01T03:00:00.000000000&#x27;, &#x27;2011-10-31T13:00:00.000000000&#x27;,\n",
       "       &#x27;2011-11-30T23:00:00.000000000&#x27;, &#x27;2011-12-31T10:00:00.000000000&#x27;,\n",
       "       &#x27;2012-01-30T20:00:00.000000000&#x27;, &#x27;2012-03-01T06:00:00.000000000&#x27;,\n",
       "       &#x27;2012-03-31T16:00:00.000000000&#x27;, &#x27;2012-05-01T02:00:00.000000000&#x27;,\n",
       "       &#x27;2012-05-31T13:00:00.000000000&#x27;, &#x27;2012-06-30T23:00:00.000000000&#x27;,\n",
       "       &#x27;2012-07-31T09:00:00.000000000&#x27;, &#x27;2012-08-30T19:00:00.000000000&#x27;,\n",
       "       &#x27;2012-09-30T05:00:00.000000000&#x27;, &#x27;2012-10-30T16:00:00.000000000&#x27;,\n",
       "       &#x27;2012-11-30T02:00:00.000000000&#x27;, &#x27;2012-12-30T12:00:00.000000000&#x27;],\n",
       "      dtype=&#x27;datetime64[ns]&#x27;)</pre></div></li><li class='xr-var-item'><div class='xr-var-name'><span class='xr-has-index'>XC</span></div><div class='xr-var-dims'>(XC)</div><div class='xr-var-dtype'>float32</div><div class='xr-var-preview xr-preview'>0.1667 0.5 0.8333 ... 359.5 359.8</div><input id='attrs-39c9d298-db9d-4954-89d4-0ac948f33e80' class='xr-var-attrs-in' type='checkbox' ><label for='attrs-39c9d298-db9d-4954-89d4-0ac948f33e80' title='Show/Hide attributes'><svg class='icon xr-icon-file-text2'><use xlink:href='#icon-file-text2'></use></svg></label><input id='data-7dfd6fef-d7bb-4d2a-86d6-90bcc661c2a2' class='xr-var-data-in' type='checkbox'><label for='data-7dfd6fef-d7bb-4d2a-86d6-90bcc661c2a2' title='Show/Hide data repr'><svg class='icon xr-icon-database'><use xlink:href='#icon-database'></use></svg></label><div class='xr-var-attrs'><dl class='xr-attrs'><dt><span>coordinate :</span></dt><dd>YC XC</dd><dt><span>units :</span></dt><dd>degrees_east</dd><dt><span>standard_name :</span></dt><dd>longitude</dd><dt><span>long_name :</span></dt><dd>longitude</dd><dt><span>axis :</span></dt><dd>X</dd></dl></div><div class='xr-var-data'><pre>array([1.666667e-01, 5.000000e-01, 8.333333e-01, ..., 3.591667e+02,\n",
       "       3.595000e+02, 3.598333e+02], dtype=float32)</pre></div></li><li class='xr-var-item'><div class='xr-var-name'><span class='xr-has-index'>YC</span></div><div class='xr-var-dims'>(YC)</div><div class='xr-var-dtype'>float32</div><div class='xr-var-preview xr-preview'>-77.97 -77.9 ... -30.09 -29.79</div><input id='attrs-022a637c-1342-4c2f-bbe7-b16872850298' class='xr-var-attrs-in' type='checkbox' ><label for='attrs-022a637c-1342-4c2f-bbe7-b16872850298' title='Show/Hide attributes'><svg class='icon xr-icon-file-text2'><use xlink:href='#icon-file-text2'></use></svg></label><input id='data-8bb7c545-0988-42bf-880f-25628ca3d6a8' class='xr-var-data-in' type='checkbox'><label for='data-8bb7c545-0988-42bf-880f-25628ca3d6a8' title='Show/Hide data repr'><svg class='icon xr-icon-database'><use xlink:href='#icon-database'></use></svg></label><div class='xr-var-attrs'><dl class='xr-attrs'><dt><span>coordinate :</span></dt><dd>YC XC</dd><dt><span>units :</span></dt><dd>degrees_north</dd><dt><span>standard_name :</span></dt><dd>latitude</dd><dt><span>long_name :</span></dt><dd>latitude</dd><dt><span>axis :</span></dt><dd>Y</dd></dl></div><div class='xr-var-data'><pre>array([-77.96525 , -77.89555 , -77.825455, ..., -30.377192, -30.089203,\n",
       "       -29.789328], dtype=float32)</pre></div></li><li class='xr-var-item'><div class='xr-var-name'><span class='xr-has-index'>Z</span></div><div class='xr-var-dims'>(Z)</div><div class='xr-var-dtype'>float32</div><div class='xr-var-preview xr-preview'>-2.1 -6.7 ... -5.4e+03 -5.8e+03</div><input id='attrs-e871d252-1b08-43de-8e99-c138c340e97a' class='xr-var-attrs-in' type='checkbox' ><label for='attrs-e871d252-1b08-43de-8e99-c138c340e97a' title='Show/Hide attributes'><svg class='icon xr-icon-file-text2'><use xlink:href='#icon-file-text2'></use></svg></label><input id='data-185bb43c-7610-4b85-9690-a2d142c164d4' class='xr-var-data-in' type='checkbox'><label for='data-185bb43c-7610-4b85-9690-a2d142c164d4' title='Show/Hide data repr'><svg class='icon xr-icon-database'><use xlink:href='#icon-database'></use></svg></label><div class='xr-var-attrs'><dl class='xr-attrs'><dt><span>units :</span></dt><dd>m</dd><dt><span>positive :</span></dt><dd>down</dd><dt><span>standard_name :</span></dt><dd>depth</dd><dt><span>long_name :</span></dt><dd>vertical coordinate of cell center</dd><dt><span>axis :</span></dt><dd>Z</dd></dl></div><div class='xr-var-data'><pre>array([-2.100e+00, -6.700e+00, -1.215e+01, -1.855e+01, -2.625e+01, -3.525e+01,\n",
       "       -4.500e+01, -5.500e+01, -6.500e+01, -7.500e+01, -8.500e+01, -9.500e+01,\n",
       "       -1.050e+02, -1.150e+02, -1.250e+02, -1.350e+02, -1.465e+02, -1.615e+02,\n",
       "       -1.800e+02, -2.000e+02, -2.200e+02, -2.400e+02, -2.600e+02, -2.800e+02,\n",
       "       -3.010e+02, -3.270e+02, -3.610e+02, -4.025e+02, -4.500e+02, -5.000e+02,\n",
       "       -5.515e+02, -6.140e+02, -7.000e+02, -8.000e+02, -9.000e+02, -1.000e+03,\n",
       "       -1.100e+03, -1.225e+03, -1.400e+03, -1.600e+03, -1.800e+03, -2.010e+03,\n",
       "       -2.270e+03, -2.610e+03, -3.000e+03, -3.400e+03, -3.800e+03, -4.200e+03,\n",
       "       -4.600e+03, -5.000e+03, -5.400e+03, -5.800e+03], dtype=float32)</pre></div></li><li class='xr-var-item'><div class='xr-var-name'><span>Depth</span></div><div class='xr-var-dims'>(YC, XC)</div><div class='xr-var-dtype'>float32</div><div class='xr-var-preview xr-preview'>...</div><input id='attrs-6273fd9c-a371-4c2a-975a-e45ed144c83b' class='xr-var-attrs-in' type='checkbox' ><label for='attrs-6273fd9c-a371-4c2a-975a-e45ed144c83b' title='Show/Hide attributes'><svg class='icon xr-icon-file-text2'><use xlink:href='#icon-file-text2'></use></svg></label><input id='data-983a47a6-bd96-4095-99fc-1bb434fe9350' class='xr-var-data-in' type='checkbox'><label for='data-983a47a6-bd96-4095-99fc-1bb434fe9350' title='Show/Hide data repr'><svg class='icon xr-icon-database'><use xlink:href='#icon-database'></use></svg></label><div class='xr-var-attrs'><dl class='xr-attrs'><dt><span>coordinate :</span></dt><dd>XC YC</dd><dt><span>units :</span></dt><dd>m</dd><dt><span>standard_name :</span></dt><dd>ocean_depth</dd><dt><span>long_name :</span></dt><dd>ocean depth</dd></dl></div><div class='xr-var-data'><pre>[317520 values with dtype=float32]</pre></div></li><li class='xr-var-item'><div class='xr-var-name'><span>rA</span></div><div class='xr-var-dims'>(YC, XC)</div><div class='xr-var-dtype'>float32</div><div class='xr-var-preview xr-preview'>...</div><input id='attrs-a467319b-e0cb-448e-adaf-932538e25eec' class='xr-var-attrs-in' type='checkbox' ><label for='attrs-a467319b-e0cb-448e-adaf-932538e25eec' title='Show/Hide attributes'><svg class='icon xr-icon-file-text2'><use xlink:href='#icon-file-text2'></use></svg></label><input id='data-222cf733-64f1-4f9b-8663-e46bcf8ef6f8' class='xr-var-data-in' type='checkbox'><label for='data-222cf733-64f1-4f9b-8663-e46bcf8ef6f8' title='Show/Hide data repr'><svg class='icon xr-icon-database'><use xlink:href='#icon-database'></use></svg></label><div class='xr-var-attrs'><dl class='xr-attrs'><dt><span>coordinate :</span></dt><dd>YC XC</dd><dt><span>units :</span></dt><dd>m2</dd><dt><span>standard_name :</span></dt><dd>cell_area</dd><dt><span>long_name :</span></dt><dd>cell area</dd></dl></div><div class='xr-var-data'><pre>[317520 values with dtype=float32]</pre></div></li><li class='xr-var-item'><div class='xr-var-name'><span>drF</span></div><div class='xr-var-dims'>(Z)</div><div class='xr-var-dtype'>float32</div><div class='xr-var-preview xr-preview'>...</div><input id='attrs-d9299621-bfdf-4ff9-a01b-6ca4d77de695' class='xr-var-attrs-in' type='checkbox' ><label for='attrs-d9299621-bfdf-4ff9-a01b-6ca4d77de695' title='Show/Hide attributes'><svg class='icon xr-icon-file-text2'><use xlink:href='#icon-file-text2'></use></svg></label><input id='data-e2eda26b-8e49-4962-8f62-be1c8b33ddf2' class='xr-var-data-in' type='checkbox'><label for='data-e2eda26b-8e49-4962-8f62-be1c8b33ddf2' title='Show/Hide data repr'><svg class='icon xr-icon-database'><use xlink:href='#icon-database'></use></svg></label><div class='xr-var-attrs'><dl class='xr-attrs'><dt><span>units :</span></dt><dd>m</dd><dt><span>long_name :</span></dt><dd>cell z size</dd><dt><span>standard_name :</span></dt><dd>cell_z_size</dd></dl></div><div class='xr-var-data'><pre>array([  4.2,   5. ,   5.9,   6.9,   8.5,   9.5,  10. ,  10. ,  10. ,  10. ,\n",
       "        10. ,  10. ,  10. ,  10. ,  10. ,  10. ,  13. ,  17. ,  20. ,  20. ,\n",
       "        20. ,  20. ,  20. ,  20. ,  22. ,  30. ,  38. ,  45. ,  50. ,  50. ,\n",
       "        53. ,  72. , 100. , 100. , 100. , 100. , 100. , 150. , 200. , 200. ,\n",
       "       200. , 220. , 300. , 380. , 400. , 400. , 400. , 400. , 400. , 400. ,\n",
       "       400. , 400. ], dtype=float32)</pre></div></li><li class='xr-var-item'><div class='xr-var-name'><span>hFacC</span></div><div class='xr-var-dims'>(Z, YC, XC)</div><div class='xr-var-dtype'>float32</div><div class='xr-var-preview xr-preview'>...</div><input id='attrs-1f04c4c7-d844-40b7-811a-f287909372e0' class='xr-var-attrs-in' type='checkbox' ><label for='attrs-1f04c4c7-d844-40b7-811a-f287909372e0' title='Show/Hide attributes'><svg class='icon xr-icon-file-text2'><use xlink:href='#icon-file-text2'></use></svg></label><input id='data-2eaea789-0d32-423f-9580-44677373cb77' class='xr-var-data-in' type='checkbox'><label for='data-2eaea789-0d32-423f-9580-44677373cb77' title='Show/Hide data repr'><svg class='icon xr-icon-database'><use xlink:href='#icon-database'></use></svg></label><div class='xr-var-attrs'><dl class='xr-attrs'><dt><span>long_name :</span></dt><dd>vertical fraction of open cell</dd><dt><span>standard_name :</span></dt><dd>cell_vertical_fraction</dd></dl></div><div class='xr-var-data'><pre>[16511040 values with dtype=float32]</pre></div></li></ul></div></li><li class='xr-section-item'><input id='section-11a81aa1-24ff-44b9-8e86-8ba89279a0a8' class='xr-section-summary-in' type='checkbox'  checked><label for='section-11a81aa1-24ff-44b9-8e86-8ba89279a0a8' class='xr-section-summary' >Data variables: <span>(1)</span></label><div class='xr-section-inline-details'></div><div class='xr-section-details'><ul class='xr-var-list'><li class='xr-var-item'><div class='xr-var-name'><span>THETA</span></div><div class='xr-var-dims'>(time, Z, YC, XC)</div><div class='xr-var-dtype'>float32</div><div class='xr-var-preview xr-preview'>...</div><input id='attrs-358983fd-a3de-4406-b36b-0d98009da103' class='xr-var-attrs-in' type='checkbox' ><label for='attrs-358983fd-a3de-4406-b36b-0d98009da103' title='Show/Hide attributes'><svg class='icon xr-icon-file-text2'><use xlink:href='#icon-file-text2'></use></svg></label><input id='data-fc07f7ae-1c99-4260-886a-3f4dadeeb02b' class='xr-var-data-in' type='checkbox'><label for='data-fc07f7ae-1c99-4260-886a-3f4dadeeb02b' title='Show/Hide data repr'><svg class='icon xr-icon-database'><use xlink:href='#icon-database'></use></svg></label><div class='xr-var-attrs'><dl class='xr-attrs'><dt><span>units :</span></dt><dd>degC</dd><dt><span>long_name :</span></dt><dd>Potential Temperature</dd><dt><span>standard_name :</span></dt><dd>THETA</dd></dl></div><div class='xr-var-data'><pre>[990662400 values with dtype=float32]</pre></div></li></ul></div></li><li class='xr-section-item'><input id='section-25b8472b-55ef-41e8-b93e-ee11faa50457' class='xr-section-summary-in' type='checkbox' disabled ><label for='section-25b8472b-55ef-41e8-b93e-ee11faa50457' class='xr-section-summary'  title='Expand/collapse section'>Attributes: <span>(0)</span></label><div class='xr-section-inline-details'></div><div class='xr-section-details'><dl class='xr-attrs'></dl></div></li></ul></div></div>"
      ],
      "text/plain": [
       "<xarray.Dataset>\n",
       "Dimensions:  (time: 60, XC: 1080, YC: 294, Z: 52)\n",
       "Coordinates:\n",
       "    iter     (time) int64 ...\n",
       "  * time     (time) datetime64[ns] 2008-01-31T10:00:00 ... 2012-12-30T12:00:00\n",
       "  * XC       (XC) float32 0.1667 0.5 0.8333 1.167 ... 358.8 359.2 359.5 359.8\n",
       "  * YC       (YC) float32 -77.97 -77.9 -77.83 -77.75 ... -30.38 -30.09 -29.79\n",
       "  * Z        (Z) float32 -2.1 -6.7 -12.15 -18.55 ... -5e+03 -5.4e+03 -5.8e+03\n",
       "    Depth    (YC, XC) float32 ...\n",
       "    rA       (YC, XC) float32 ...\n",
       "    drF      (Z) float32 ...\n",
       "    hFacC    (Z, YC, XC) float32 ...\n",
       "Data variables:\n",
       "    THETA    (time, Z, YC, XC) float32 ..."
      ]
     },
     "execution_count": 4,
     "metadata": {},
     "output_type": "execute_result"
    }
   ],
   "source": [
    "temp\n"
   ]
  },
  {
   "cell_type": "code",
   "execution_count": 21,
   "id": "24ecdc18",
   "metadata": {},
   "outputs": [
    {
     "data": {
      "text/plain": [
       "[<matplotlib.lines.Line2D at 0x28e8f04de80>]"
      ]
     },
     "execution_count": 21,
     "metadata": {},
     "output_type": "execute_result"
    },
    {
     "data": {
      "image/png": "[encoded data removed]",
      "text/plain": [
       "<Figure size 432x288 with 1 Axes>"
      ]
     },
     "metadata": {
      "needs_background": "light"
     },
     "output_type": "display_data"
    }
   ],
   "source": [
    "temp1 = THETA.isel(time=59, YC=293, XC=1079)\n",
    "temp1.plot()"
   ]
  },
  {
   "cell_type": "code",
   "execution_count": 22,
   "id": "4780e115",
   "metadata": {},
   "outputs": [
    {
     "data": {
      "text/plain": [
       "{'units': 'degC',\n",
       " 'long_name': 'Potential Temperature',\n",
       " 'standard_name': 'THETA'}"
      ]
     },
     "execution_count": 22,
     "metadata": {},
     "output_type": "execute_result"
    }
   ],
   "source": [
    "temp1.attrs"
   ]
  },
  {
   "cell_type": "code",
   "execution_count": 30,
   "id": "a4229fc3",
   "metadata": {},
   "outputs": [
    {
     "data": {
      "text/plain": [
       "[<matplotlib.lines.Line2D at 0x28e8f4a1d60>]"
      ]
     },
     "execution_count": 30,
     "metadata": {},
     "output_type": "execute_result"
    },
    {
     "data": {
      "image/png": "[encoded data removed]",
      "text/plain": [
       "<Figure size 432x288 with 1 Axes>"
      ]
     },
     "metadata": {
      "needs_background": "light"
     },
     "output_type": "display_data"
    }
   ],
   "source": [
    "temp1[:200].plot.line(\"b-^\")"
   ]
  },
  {
   "cell_type": "code",
   "execution_count": 34,
   "id": "fa1ca38a",
   "metadata": {},
   "outputs": [
    {
     "data": {
      "text/plain": [
       "[<matplotlib.lines.Line2D at 0x28e8f67bcd0>]"
      ]
     },
     "execution_count": 34,
     "metadata": {},
     "output_type": "execute_result"
    },
    {
     "data": {
      "image/png": "[encoded data removed]",
      "text/plain": [
       "<Figure size 432x288 with 1 Axes>"
      ]
     },
     "metadata": {
      "needs_background": "light"
     },
     "output_type": "display_data"
    }
   ],
   "source": [
    "temp1[:200].plot.line(color=\"purple\", marker=\"x\")"
   ]
  },
  {
   "cell_type": "code",
   "execution_count": 47,
   "id": "6bf7894c",
   "metadata": {},
   "outputs": [
    {
     "data": {
      "image/png": "[encoded data removed]",
      "text/plain": [
       "<Figure size 432x288 with 3 Axes>"
      ]
     },
     "metadata": {
      "needs_background": "light"
     },
     "output_type": "display_data"
    }
   ],
   "source": [
    "fig, axes = plt.subplots(ncols=3)"
   ]
  },
  {
   "cell_type": "code",
   "execution_count": 42,
   "id": "eb0cc041",
   "metadata": {},
   "outputs": [
    {
     "data": {
      "text/plain": [
       "array([<AxesSubplot:>, <AxesSubplot:>], dtype=object)"
      ]
     },
     "execution_count": 42,
     "metadata": {},
     "output_type": "execute_result"
    }
   ],
   "source": [
    "axes"
   ]
  },
  {
   "cell_type": "code",
   "execution_count": 43,
   "id": "87a5a047",
   "metadata": {},
   "outputs": [
    {
     "data": {
      "text/plain": [
       "[<matplotlib.lines.Line2D at 0x28e8f635b80>]"
      ]
     },
     "execution_count": 43,
     "metadata": {},
     "output_type": "execute_result"
    }
   ],
   "source": [
    "temp1.plot(ax=axes[0])"
   ]
  },
  {
   "cell_type": "code",
   "execution_count": 44,
   "id": "d408a069",
   "metadata": {},
   "outputs": [
    {
     "data": {
      "text/plain": [
       "(array([ 7.,  8.,  3.,  1.,  2.,  1.,  2.,  5., 17.,  6.]),\n",
       " array([ 0.       ,  2.0695612,  4.1391225,  6.2086835,  8.278245 ,\n",
       "        10.347806 , 12.417367 , 14.486928 , 16.55649  , 18.62605  ,\n",
       "        20.695612 ], dtype=float32),\n",
       " <BarContainer object of 10 artists>)"
      ]
     },
     "execution_count": 44,
     "metadata": {},
     "output_type": "execute_result"
    }
   ],
   "source": [
    "temp1.plot.hist(ax=axes[1])"
   ]
  },
  {
   "cell_type": "code",
   "execution_count": 45,
   "id": "d91e1a0e",
   "metadata": {},
   "outputs": [
    {
     "data": {
      "text/plain": [
       "<Figure size 432x288 with 0 Axes>"
      ]
     },
     "metadata": {},
     "output_type": "display_data"
    }
   ],
   "source": [
    "plt.tight_layout()"
   ]
  },
  {
   "cell_type": "code",
   "execution_count": 46,
   "id": "d95f70c3",
   "metadata": {},
   "outputs": [
    {
     "data": {
      "text/plain": [
       "<function matplotlib.pyplot.draw()>"
      ]
     },
     "execution_count": 46,
     "metadata": {},
     "output_type": "execute_result"
    }
   ],
   "source": [
    "plt.draw"
   ]
  },
  {
   "cell_type": "code",
   "execution_count": 52,
   "id": "fb3f7c79",
   "metadata": {},
   "outputs": [
    {
     "data": {
      "image/png": "[encoded data removed]",
      "text/plain": [
       "<Figure size 432x216 with 1 Axes>"
      ]
     },
     "metadata": {
      "needs_background": "light"
     },
     "output_type": "display_data"
    }
   ],
   "source": [
    "temp1.plot(aspect=2 , size=3)\n",
    "plt.tight_layout()"
   ]
  }
 ],
 "metadata": {
  "kernelspec": {
   "display_name": "Python 3 (ipykernel)",
   "language": "python",
   "name": "python3"
  },
  "language_info": {
   "codemirror_mode": {
    "name": "ipython",
    "version": 3
   },
   "file_extension": ".py",
   "mimetype": "text/x-python",
   "name": "python",
   "nbconvert_exporter": "python",
   "pygments_lexer": "ipython3",
   "version": "3.9.7"
  }
 },
 "nbformat": 4,
 "nbformat_minor": 5
}
